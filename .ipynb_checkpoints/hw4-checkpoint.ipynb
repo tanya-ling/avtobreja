{
 "cells": [
  {
   "cell_type": "code",
   "execution_count": 10,
   "metadata": {
    "collapsed": false,
    "deletable": true,
    "editable": true
   },
   "outputs": [],
   "source": [
    "from nltk.corpus import wordnet\n",
    "import re\n",
    "import sys"
   ]
  },
  {
   "cell_type": "code",
   "execution_count": 11,
   "metadata": {
    "collapsed": false,
    "deletable": true,
    "editable": true
   },
   "outputs": [
    {
     "data": {
      "text/plain": [
       "[Synset('plant.n.01'),\n",
       " Synset('plant.n.02'),\n",
       " Synset('plant.n.03'),\n",
       " Synset('plant.n.04'),\n",
       " Synset('plant.v.01'),\n",
       " Synset('implant.v.01'),\n",
       " Synset('establish.v.02'),\n",
       " Synset('plant.v.04'),\n",
       " Synset('plant.v.05'),\n",
       " Synset('plant.v.06')]"
      ]
     },
     "execution_count": 11,
     "metadata": {},
     "output_type": "execute_result"
    }
   ],
   "source": [
    "plant = wordnet.synsets('plant')\n",
    "plant"
   ]
  },
  {
   "cell_type": "code",
   "execution_count": 12,
   "metadata": {
    "collapsed": false,
    "deletable": true,
    "editable": true
   },
   "outputs": [
    {
     "name": "stdout",
     "output_type": "stream",
     "text": [
      "buildings for carrying on industrial labor\n",
      "(botany) a living organism lacking the power of locomotion\n",
      "an actor situated in the audience whose acting is rehearsed but seems spontaneous to the audience\n",
      "something planted secretly for discovery by another\n",
      "put or set (seeds, seedlings, or plants) into the ground\n",
      "fix or set securely or deeply\n",
      "set up or lay the groundwork for\n",
      "place into a river\n",
      "place something or someone in a certain position in order to secretly observe or deceive\n",
      "put firmly in the mind\n"
     ]
    }
   ],
   "source": [
    "for i in plant:\n",
    "    print(i.definition())"
   ]
  },
  {
   "cell_type": "markdown",
   "metadata": {
    "collapsed": true,
    "deletable": true,
    "editable": true
   },
   "source": [
    "(а) \"завод\" - buildings for carrying on industrial labor\n",
    "\n",
    "(b) \"растение\" - (botany) a living organism lacking the power of locomotion"
   ]
  },
  {
   "cell_type": "code",
   "execution_count": 13,
   "metadata": {
    "collapsed": false,
    "deletable": true,
    "editable": true
   },
   "outputs": [
    {
     "data": {
      "text/plain": [
       "['they built a large plant to manufacture automobiles']"
      ]
     },
     "execution_count": 13,
     "metadata": {},
     "output_type": "execute_result"
    }
   ],
   "source": [
    "zavod = plant[0]\n",
    "rast = plant[1]\n",
    "zavod.examples()"
   ]
  },
  {
   "cell_type": "markdown",
   "metadata": {
    "deletable": true,
    "editable": true
   },
   "source": [
    "Беру примеры из словаря по первой ссылке."
   ]
  },
  {
   "cell_type": "code",
   "execution_count": 14,
   "metadata": {
    "collapsed": true,
    "deletable": true,
    "editable": true
   },
   "outputs": [],
   "source": [
    "rast_c = 'So this is a plant that is mimicking the first plant.'\n",
    "zavod_c = 'Teszler went down to the plant and confronted the thief and said, \"But why do you steal from me?\"'"
   ]
  },
  {
   "cell_type": "code",
   "execution_count": 15,
   "metadata": {
    "collapsed": true,
    "deletable": true,
    "editable": true
   },
   "outputs": [],
   "source": [
    "zavod_c = 'they built a large plant to manufacture slaughtered produced automobiles buildings industrial'"
   ]
  },
  {
   "cell_type": "markdown",
   "metadata": {
    "deletable": true,
    "editable": true
   },
   "source": [
    "алгоритм Леска я взяла отсюда - https://raw.githubusercontent.com/Akirato/Lesk-Algorithm/master/leskAlgorithm.py\n",
    "\n",
    "Изменила токенизацию, так как модуль не импортировался и добавила строчку \n",
    "\n",
    "functionwords.append(word)\n",
    "\n",
    "чтобы само вхождение слова в примерах не влияло на результат. Потому что иначе при абсолютно любых предложениях выигрывает растение просто потому что у него больше примеров! \n",
    "\n",
    "P.S.: потом я заметила, тчо можно было просто сымпортировать леска из нлтк, ну ладно уже."
   ]
  },
  {
   "cell_type": "code",
   "execution_count": 16,
   "metadata": {
    "collapsed": false,
    "deletable": true,
    "editable": true
   },
   "outputs": [],
   "source": [
    "functionwords = ['about', 'across', 'against', 'along', 'around', 'at',\n",
    "                 'behind', 'beside', 'besides', 'by', 'despite', 'down',\n",
    "                 'during', 'for', 'from', 'in', 'inside', 'into', 'near', 'of',\n",
    "                 'off', 'on', 'onto', 'over', 'through', 'to', 'toward',\n",
    "                 'with', 'within', 'without', 'anything', 'everything',\n",
    "                 'anyone', 'everyone', 'ones', 'such', 'it', 'itself',\n",
    "                 'something', 'nothing', 'someone', 'the', 'some', 'this',\n",
    "                 'that', 'every', 'all', 'both', 'one', 'first', 'other',\n",
    "                 'next', 'many', 'much', 'more', 'most', 'several', 'no', 'a',\n",
    "                 'an', 'any', 'each', 'no', 'half', 'twice', 'two', 'second',\n",
    "                 'another', 'last', 'few', 'little', 'less', 'least', 'own',\n",
    "                 'and', 'but', 'after', 'when', 'as', 'because', 'if', 'what',\n",
    "                 'where', 'which', 'how', 'than', 'or', 'so', 'before', 'since',\n",
    "                 'while', 'although', 'though', 'who', 'whose', 'can', 'may',\n",
    "                 'will', 'shall', 'could', 'be', 'do', 'have', 'might', 'would',\n",
    "                 'should', 'must', 'here', 'there', 'now', 'then', 'always',\n",
    "                 'never', 'sometimes', 'usually', 'often', 'therefore',\n",
    "                 'however', 'besides', 'moreover', 'though', 'otherwise',\n",
    "                 'else', 'instead', 'anyway', 'incidentally', 'meanwhile', '']\n",
    "\n",
    "def overlapcontext( synset, sentence ):\n",
    "    gloss = set(re.split('[ ,\"?.]', synset.definition().lower()))\n",
    "    for i in synset.examples():\n",
    "         gloss.union(i)\n",
    "    gloss = gloss.difference( functionwords )\n",
    "    if isinstance(sentence, str):\n",
    "        sentence = set(re.split('[ ,\"?.]', sentence.lower()))\n",
    "    elif isinstance(sentence, list):\n",
    "        sentence = set(sentence)\n",
    "    elif isinstance(sentence, set):\n",
    "        pass\n",
    "    else:\n",
    "        return\n",
    "    sentence = sentence.difference( functionwords )\n",
    "    return len( gloss.intersection(sentence) )\n",
    "\n",
    "def lesk( word, sentence ):\n",
    "    functionwords.append(word)\n",
    "    bestsense = None\n",
    "    maxoverlap = 0\n",
    "    word=wordnet.morphy(word) if wordnet.morphy(word) is not None else word\n",
    "    for sense in wordnet.synsets(word):\n",
    "        overlap = overlapcontext(sense,sentence)\n",
    "        for h in sense.hyponyms():\n",
    "            overlap += overlapcontext( h, sentence )\n",
    "        if overlap > maxoverlap:\n",
    "                maxoverlap = overlap\n",
    "                bestsense = sense\n",
    "    return bestsense"
   ]
  },
  {
   "cell_type": "code",
   "execution_count": 17,
   "metadata": {
    "collapsed": false,
    "deletable": true,
    "editable": true
   },
   "outputs": [
    {
     "name": "stdout",
     "output_type": "stream",
     "text": [
      "\n",
      "\n",
      "Synset: Synset('plant.n.02')\n",
      "Meaning: (botany) a living organism lacking the power of locomotion\n",
      "\n",
      "\n",
      "Synset: Synset('plant.n.01')\n",
      "Meaning: buildings for carrying on industrial labor\n"
     ]
    }
   ],
   "source": [
    "word = 'plant'\n",
    "\n",
    "a = lesk(word, rast_c)\n",
    "print(\"\\n\\nSynset:\",a)\n",
    "if a is not None:\n",
    "    print(\"Meaning:\",a.definition())\n",
    "    \n",
    "a = lesk(word, zavod_c)\n",
    "print(\"\\n\\nSynset:\",a)\n",
    "if a is not None:\n",
    "    print(\"Meaning:\",a.definition())"
   ]
  },
  {
   "cell_type": "markdown",
   "metadata": {
    "deletable": true,
    "editable": true
   },
   "source": [
    "Неудача с заводом! Попробуем другое предложение..."
   ]
  },
  {
   "cell_type": "code",
   "execution_count": 18,
   "metadata": {
    "collapsed": false,
    "deletable": true,
    "editable": true
   },
   "outputs": [
    {
     "name": "stdout",
     "output_type": "stream",
     "text": [
      "\n",
      "\n",
      "Synset: Synset('plant.n.01')\n",
      "Meaning: buildings for carrying on industrial labor\n"
     ]
    }
   ],
   "source": [
    "a = lesk(word, 'Rolls-Royce Manufacturing Plant Rolls-Royce traditionally stands for precision and quality. ')\n",
    "print(\"\\n\\nSynset:\",a)\n",
    "if a is not None:\n",
    "    print(\"Meaning:\",a.definition())"
   ]
  },
  {
   "cell_type": "markdown",
   "metadata": {
    "deletable": true,
    "editable": true
   },
   "source": [
    "Вот, всё работает!"
   ]
  },
  {
   "cell_type": "code",
   "execution_count": 19,
   "metadata": {
    "collapsed": false,
    "deletable": true,
    "editable": true
   },
   "outputs": [
    {
     "data": {
      "text/plain": [
       "([Synset('building_complex.n.01')], [Synset('organism.n.01')])"
      ]
     },
     "execution_count": 19,
     "metadata": {},
     "output_type": "execute_result"
    }
   ],
   "source": [
    "zavod.hypernyms(), rast.hypernyms()"
   ]
  },
  {
   "cell_type": "markdown",
   "metadata": {
    "deletable": true,
    "editable": true
   },
   "source": [
    "Гиперонимы - строение и организм, всё ок."
   ]
  },
  {
   "cell_type": "markdown",
   "metadata": {
    "deletable": true,
    "editable": true
   },
   "source": [
    "наименьшее расстояние между значением plant \"завод\" и значениями лексемы industry, а также plant \"растение\" и значениями лексемы leaf:"
   ]
  },
  {
   "cell_type": "code",
   "execution_count": 20,
   "metadata": {
    "collapsed": false,
    "deletable": true,
    "editable": true
   },
   "outputs": [
    {
     "name": "stdout",
     "output_type": "stream",
     "text": [
      "path  buildings for carrying on industrial labor  --  industry :  0.07142857142857142\n",
      "path  (botany) a living organism lacking the power of locomotion  --  leaf :  0.125\n"
     ]
    }
   ],
   "source": [
    "def d(synset, lemma):\n",
    "    mini = 0\n",
    "    if type(synset) != str:\n",
    "        for syn in wordnet.synsets(lemma):\n",
    "            if syn.path_similarity(synset) != None:\n",
    "                if syn.path_similarity(synset) > mini:\n",
    "                    mini = syn.path_similarity(synset)\n",
    "        print('path ', synset.definition(), ' -- ', lemma, ': ', mini)\n",
    "    else:\n",
    "        for syn in wordnet.synsets(lemma):\n",
    "            for syn2 in wordnet.synsets(synset):\n",
    "                if syn.path_similarity(syn2) != None:\n",
    "                    if syn.path_similarity(syn2) > mini:\n",
    "                        mini = syn.path_similarity(syn2)\n",
    "        print('path ', synset, ' -- ', lemma, ': ', mini)\n",
    "    return mini\n",
    "\n",
    "x = d(zavod, 'industry')\n",
    "y = d(rast, 'leaf')"
   ]
  },
  {
   "cell_type": "markdown",
   "metadata": {
    "deletable": true,
    "editable": true
   },
   "source": [
    "min (d(plant: \"завод\", industry), d(plant: \"завод\", leaf)) - в задании min, но я считаю max, потому что ведь чем больше число, тем они ближе."
   ]
  },
  {
   "cell_type": "code",
   "execution_count": 21,
   "metadata": {
    "collapsed": false,
    "deletable": true,
    "editable": true
   },
   "outputs": [
    {
     "name": "stdout",
     "output_type": "stream",
     "text": [
      "path  buildings for carrying on industrial labor  --  industry :  0.07142857142857142\n",
      "path  buildings for carrying on industrial labor  --  leaf :  0.1111111111111111\n"
     ]
    },
    {
     "data": {
      "text/plain": [
       "0.1111111111111111"
      ]
     },
     "execution_count": 21,
     "metadata": {},
     "output_type": "execute_result"
    }
   ],
   "source": [
    "max(d(zavod, 'industry'), float(d(zavod, 'leaf')))"
   ]
  },
  {
   "cell_type": "markdown",
   "metadata": {
    "deletable": true,
    "editable": true
   },
   "source": [
    "почему-то от завода до завода дальше, чем до листа...\n",
    "\n",
    "min (d(plant: \"растение\", industry), d(plant: \"растение\", leaf))"
   ]
  },
  {
   "cell_type": "code",
   "execution_count": 22,
   "metadata": {
    "collapsed": false,
    "deletable": true,
    "editable": true
   },
   "outputs": [
    {
     "name": "stdout",
     "output_type": "stream",
     "text": [
      "path  (botany) a living organism lacking the power of locomotion  --  leaf :  0.125\n",
      "path  (botany) a living organism lacking the power of locomotion  --  industry :  0.07692307692307693\n"
     ]
    },
    {
     "data": {
      "text/plain": [
       "0.125"
      ]
     },
     "execution_count": 22,
     "metadata": {},
     "output_type": "execute_result"
    }
   ],
   "source": [
    "max(d(rast, 'leaf'), d(rast, 'industry'))"
   ]
  },
  {
   "cell_type": "markdown",
   "metadata": {
    "deletable": true,
    "editable": true
   },
   "source": [
    "а вот тут нормально, но растение-industry дальше, чем растение-leaf."
   ]
  },
  {
   "cell_type": "code",
   "execution_count": 23,
   "metadata": {
    "collapsed": true,
    "deletable": true,
    "editable": true
   },
   "outputs": [],
   "source": [
    "def d2(synset, lemma):\n",
    "    mini = 0\n",
    "    if type(synset) != str:\n",
    "        for syn in wordnet.synsets(lemma):\n",
    "            if syn.wup_similarity(synset) != None:\n",
    "                if syn.wup_similarity(synset) > mini:\n",
    "                    mini = syn.wup_similarity(synset)\n",
    "        print('wup  ', synset.definition(), ' -- ', lemma, ': ', mini)\n",
    "    else:\n",
    "        for syn in wordnet.synsets(lemma):\n",
    "            for syn2 in wordnet.synsets(synset):\n",
    "                if syn.wup_similarity(syn2) != None:\n",
    "                    if syn.wup_similarity(syn2) > mini:\n",
    "                        mini = syn.wup_similarity(syn2)\n",
    "        print('wup  ', synset, ' -- ', lemma, ': ', mini)\n",
    "    return mini"
   ]
  },
  {
   "cell_type": "markdown",
   "metadata": {
    "collapsed": true,
    "deletable": true,
    "editable": true
   },
   "source": [
    "d(plant: \"растение\", rattlesnake's master)"
   ]
  },
  {
   "cell_type": "code",
   "execution_count": 24,
   "metadata": {
    "collapsed": false,
    "deletable": true,
    "editable": true
   },
   "outputs": [
    {
     "name": "stdout",
     "output_type": "stream",
     "text": [
      "path  (botany) a living organism lacking the power of locomotion  --  rattlesnake's_master :  0.3333333333333333\n",
      "wup   (botany) a living organism lacking the power of locomotion  --  rattlesnake's_master :  0.875\n",
      "\n",
      "path  organism  --  whole :  0.3333333333333333\n",
      "wup   organism  --  whole :  0.8\n"
     ]
    },
    {
     "data": {
      "text/plain": [
       "(0.3333333333333333, 0.8)"
      ]
     },
     "execution_count": 24,
     "metadata": {},
     "output_type": "execute_result"
    }
   ],
   "source": [
    "d(rast, \"rattlesnake's_master\"), d2(rast, \"rattlesnake's_master\")\n",
    "print()\n",
    "d('organism', 'whole'), d2('organism', 'whole')\n"
   ]
  },
  {
   "cell_type": "markdown",
   "metadata": {
    "collapsed": true,
    "deletable": true,
    "editable": true
   },
   "source": [
    "Разница между path и wup вроде в том, что первый спотрит на ближайшего предка, в второй на обилжайшего общего наследника. Расстояние path в обоих случаях получается меньше, чем wup. И всё-таки кажется, что семантически растение и rattlesnake's_master ближе чем organism  --  whole, значит, wup лучше \"отражает интуитивное представление о семантчиеской близости слов\" (path дает для обеих пар одинаковые резутаты, а wup для растений дает результат чуть выше)."
   ]
  },
  {
   "cell_type": "code",
   "execution_count": null,
   "metadata": {
    "collapsed": true
   },
   "outputs": [],
   "source": []
  }
 ],
 "metadata": {
  "anaconda-cloud": {},
  "kernelspec": {
   "display_name": "Python 3",
   "language": "python",
   "name": "python3"
  },
  "language_info": {
   "codemirror_mode": {
    "name": "ipython",
    "version": 3
   },
   "file_extension": ".py",
   "mimetype": "text/x-python",
   "name": "python",
   "nbconvert_exporter": "python",
   "pygments_lexer": "ipython3",
   "version": "3.5.2"
  }
 },
 "nbformat": 4,
 "nbformat_minor": 1
}
